{
 "cells": [
  {
   "cell_type": "markdown",
   "id": "ba65fa58-cac2-4c44-8918-f62ffc07fe60",
   "metadata": {},
   "source": [
    "### import libraries "
   ]
  },
  {
   "cell_type": "code",
   "execution_count": 1,
   "id": "492b84c8-58b3-492d-b141-f590ed8c16f9",
   "metadata": {},
   "outputs": [],
   "source": [
    "import pandas as pd\n",
    "import numpy as np\n",
    "import os\n",
    "import re\n",
    "import random \n",
    "import pandas as pd  "
   ]
  },
  {
   "cell_type": "markdown",
   "id": "87ce1ba6-ac0a-4f6c-b802-12fbfe7a594b",
   "metadata": {},
   "source": [
    "### load the dataset "
   ]
  },
  {
   "cell_type": "code",
   "execution_count": 3,
   "id": "cd3e4df7-f65c-42e1-b091-01751a9b8e0a",
   "metadata": {},
   "outputs": [],
   "source": [
    "chunk_iter = pd.read_csv('C:\\\\Users\\\\LENOVO\\\\Downloads\\\\aws_review_sofware_dataset\\\\aws_review_sofware_dataset.csv', chunksize=20000)   \n"
   ]
  },
  {
   "cell_type": "code",
   "execution_count": 5,
   "id": "1ce389b6-21ba-43ba-8d5e-26afba9a2e83",
   "metadata": {},
   "outputs": [],
   "source": [
    "df = next(chunk_iter) "
   ]
  },
  {
   "cell_type": "code",
   "execution_count": 7,
   "id": "cfaa9fd1-cd3f-427d-b597-ce5bdd130f58",
   "metadata": {},
   "outputs": [
    {
     "data": {
      "text/plain": [
       "pandas.core.frame.DataFrame"
      ]
     },
     "execution_count": 7,
     "metadata": {},
     "output_type": "execute_result"
    }
   ],
   "source": [
    "type(df) "
   ]
  },
  {
   "cell_type": "markdown",
   "id": "a31518ac-0cd2-4101-8bac-43b322d74eec",
   "metadata": {},
   "source": [
    "### display shape  "
   ]
  },
  {
   "cell_type": "code",
   "execution_count": 9,
   "id": "566fb815-db76-4ea2-a29c-037af1d03320",
   "metadata": {},
   "outputs": [
    {
     "data": {
      "text/plain": [
       "(20000, 13)"
      ]
     },
     "execution_count": 9,
     "metadata": {},
     "output_type": "execute_result"
    }
   ],
   "source": [
    "df.shape "
   ]
  },
  {
   "cell_type": "markdown",
   "id": "c6138e2a-668c-4276-a881-dafe28ecadf8",
   "metadata": {},
   "source": [
    "### Display the column names of the DataFrame "
   ]
  },
  {
   "cell_type": "code",
   "execution_count": 13,
   "id": "17cfa1a1-bc2c-430b-b516-1f2161782d3b",
   "metadata": {},
   "outputs": [
    {
     "data": {
      "text/plain": [
       "Index(['Unnamed: 0', 'overall', 'verified', 'reviewTime', 'reviewerID', 'asin',\n",
       "       'style', 'reviewerName', 'reviewText', 'summary', 'unixReviewTime',\n",
       "       'vote', 'image'],\n",
       "      dtype='object')"
      ]
     },
     "execution_count": 13,
     "metadata": {},
     "output_type": "execute_result"
    }
   ],
   "source": [
    "df.columns  "
   ]
  },
  {
   "cell_type": "markdown",
   "id": "c09af233-aa25-4c53-8f9d-0387e520f821",
   "metadata": {},
   "source": [
    "### displaying rows 5 "
   ]
  },
  {
   "cell_type": "code",
   "execution_count": 11,
   "id": "9bd7b6bb-b4e2-4d84-b6ab-ad6123d54487",
   "metadata": {},
   "outputs": [
    {
     "data": {
      "text/html": [
       "<div>\n",
       "<style scoped>\n",
       "    .dataframe tbody tr th:only-of-type {\n",
       "        vertical-align: middle;\n",
       "    }\n",
       "\n",
       "    .dataframe tbody tr th {\n",
       "        vertical-align: top;\n",
       "    }\n",
       "\n",
       "    .dataframe thead th {\n",
       "        text-align: right;\n",
       "    }\n",
       "</style>\n",
       "<table border=\"1\" class=\"dataframe\">\n",
       "  <thead>\n",
       "    <tr style=\"text-align: right;\">\n",
       "      <th></th>\n",
       "      <th>Unnamed: 0</th>\n",
       "      <th>overall</th>\n",
       "      <th>verified</th>\n",
       "      <th>reviewTime</th>\n",
       "      <th>reviewerID</th>\n",
       "      <th>asin</th>\n",
       "      <th>style</th>\n",
       "      <th>reviewerName</th>\n",
       "      <th>reviewText</th>\n",
       "      <th>summary</th>\n",
       "      <th>unixReviewTime</th>\n",
       "      <th>vote</th>\n",
       "      <th>image</th>\n",
       "    </tr>\n",
       "  </thead>\n",
       "  <tbody>\n",
       "    <tr>\n",
       "      <th>0</th>\n",
       "      <td>0</td>\n",
       "      <td>4.0</td>\n",
       "      <td>True</td>\n",
       "      <td>03 11, 2014</td>\n",
       "      <td>A240ORQ2LF9LUI</td>\n",
       "      <td>0077613252</td>\n",
       "      <td>{'Format:': ' Loose Leaf'}</td>\n",
       "      <td>Michelle W</td>\n",
       "      <td>The materials arrived early and were in excell...</td>\n",
       "      <td>Material Great</td>\n",
       "      <td>1394496000</td>\n",
       "      <td>NaN</td>\n",
       "      <td>NaN</td>\n",
       "    </tr>\n",
       "    <tr>\n",
       "      <th>1</th>\n",
       "      <td>1</td>\n",
       "      <td>4.0</td>\n",
       "      <td>True</td>\n",
       "      <td>02 23, 2014</td>\n",
       "      <td>A1YCCU0YRLS0FE</td>\n",
       "      <td>0077613252</td>\n",
       "      <td>{'Format:': ' Loose Leaf'}</td>\n",
       "      <td>Rosalind White Ames</td>\n",
       "      <td>I am really enjoying this book with the worksh...</td>\n",
       "      <td>Health</td>\n",
       "      <td>1393113600</td>\n",
       "      <td>NaN</td>\n",
       "      <td>NaN</td>\n",
       "    </tr>\n",
       "    <tr>\n",
       "      <th>2</th>\n",
       "      <td>2</td>\n",
       "      <td>1.0</td>\n",
       "      <td>True</td>\n",
       "      <td>02 17, 2014</td>\n",
       "      <td>A1BJHRQDYVAY2J</td>\n",
       "      <td>0077613252</td>\n",
       "      <td>{'Format:': ' Loose Leaf'}</td>\n",
       "      <td>Allan R. Baker</td>\n",
       "      <td>IF YOU ARE TAKING THIS CLASS DON\"T WASTE YOUR ...</td>\n",
       "      <td>ARE YOU KIDING ME?</td>\n",
       "      <td>1392595200</td>\n",
       "      <td>7.0</td>\n",
       "      <td>NaN</td>\n",
       "    </tr>\n",
       "    <tr>\n",
       "      <th>3</th>\n",
       "      <td>3</td>\n",
       "      <td>3.0</td>\n",
       "      <td>True</td>\n",
       "      <td>02 17, 2014</td>\n",
       "      <td>APRDVZ6QBIQXT</td>\n",
       "      <td>0077613252</td>\n",
       "      <td>{'Format:': ' Loose Leaf'}</td>\n",
       "      <td>Lucy</td>\n",
       "      <td>This book was missing pages!!! Important pages...</td>\n",
       "      <td>missing pages!!</td>\n",
       "      <td>1392595200</td>\n",
       "      <td>3.0</td>\n",
       "      <td>NaN</td>\n",
       "    </tr>\n",
       "    <tr>\n",
       "      <th>4</th>\n",
       "      <td>4</td>\n",
       "      <td>5.0</td>\n",
       "      <td>False</td>\n",
       "      <td>10 14, 2013</td>\n",
       "      <td>A2JZTTBSLS1QXV</td>\n",
       "      <td>0077775473</td>\n",
       "      <td>NaN</td>\n",
       "      <td>Albert V.</td>\n",
       "      <td>I have used LearnSmart and can officially say ...</td>\n",
       "      <td>Best study product out there!</td>\n",
       "      <td>1381708800</td>\n",
       "      <td>NaN</td>\n",
       "      <td>NaN</td>\n",
       "    </tr>\n",
       "  </tbody>\n",
       "</table>\n",
       "</div>"
      ],
      "text/plain": [
       "   Unnamed: 0  overall  verified   reviewTime      reviewerID        asin  \\\n",
       "0           0      4.0      True  03 11, 2014  A240ORQ2LF9LUI  0077613252   \n",
       "1           1      4.0      True  02 23, 2014  A1YCCU0YRLS0FE  0077613252   \n",
       "2           2      1.0      True  02 17, 2014  A1BJHRQDYVAY2J  0077613252   \n",
       "3           3      3.0      True  02 17, 2014   APRDVZ6QBIQXT  0077613252   \n",
       "4           4      5.0     False  10 14, 2013  A2JZTTBSLS1QXV  0077775473   \n",
       "\n",
       "                        style         reviewerName  \\\n",
       "0  {'Format:': ' Loose Leaf'}           Michelle W   \n",
       "1  {'Format:': ' Loose Leaf'}  Rosalind White Ames   \n",
       "2  {'Format:': ' Loose Leaf'}       Allan R. Baker   \n",
       "3  {'Format:': ' Loose Leaf'}                 Lucy   \n",
       "4                         NaN            Albert V.   \n",
       "\n",
       "                                          reviewText  \\\n",
       "0  The materials arrived early and were in excell...   \n",
       "1  I am really enjoying this book with the worksh...   \n",
       "2  IF YOU ARE TAKING THIS CLASS DON\"T WASTE YOUR ...   \n",
       "3  This book was missing pages!!! Important pages...   \n",
       "4  I have used LearnSmart and can officially say ...   \n",
       "\n",
       "                         summary  unixReviewTime  vote image  \n",
       "0                 Material Great      1394496000   NaN   NaN  \n",
       "1                         Health      1393113600   NaN   NaN  \n",
       "2             ARE YOU KIDING ME?      1392595200   7.0   NaN  \n",
       "3                missing pages!!      1392595200   3.0   NaN  \n",
       "4  Best study product out there!      1381708800   NaN   NaN  "
      ]
     },
     "execution_count": 11,
     "metadata": {},
     "output_type": "execute_result"
    }
   ],
   "source": [
    "df.head() "
   ]
  },
  {
   "cell_type": "code",
   "execution_count": 15,
   "id": "d8cd3ae4-f831-401f-ba36-eac6400f6d43",
   "metadata": {},
   "outputs": [
    {
     "data": {
      "text/plain": [
       "verified\n",
       "False    0.68415\n",
       "True     0.31585\n",
       "Name: count, dtype: float64"
      ]
     },
     "execution_count": 15,
     "metadata": {},
     "output_type": "execute_result"
    }
   ],
   "source": [
    "df['verified'].value_counts()/df.shape[0] "
   ]
  },
  {
   "cell_type": "markdown",
   "id": "ab1e9fbd-5f0d-43cc-ba90-ae253342b354",
   "metadata": {},
   "source": [
    "### Initializing empty lists for 'words' and 'sentences' columns   "
   ]
  },
  {
   "cell_type": "code",
   "execution_count": 17,
   "id": "71d00f76-f6c4-4616-87f7-4829c3a5b585",
   "metadata": {},
   "outputs": [],
   "source": [
    "df[\"words\"]=\"default value\"\n",
    "df[\"sentences\"]=\"default value\"\n",
    "\n",
    "for i in range(df.shape[0]):\n",
    "    df.at[i,\"words\"]= []\n",
    "    df.at[i,\"sentences\"] = [] "
   ]
  },
  {
   "cell_type": "markdown",
   "id": "6de90c93-8016-47bc-9209-3508dabb64a5",
   "metadata": {},
   "source": [
    "### import nltk libraries  "
   ]
  },
  {
   "cell_type": "code",
   "execution_count": 19,
   "id": "307e90ad-5dbb-4443-a0cb-1e00b4e7bce7",
   "metadata": {},
   "outputs": [
    {
     "name": "stderr",
     "output_type": "stream",
     "text": [
      "[nltk_data] Downloading package punkt_tab to\n",
      "[nltk_data]     C:\\Users\\LENOVO\\AppData\\Roaming\\nltk_data...\n",
      "[nltk_data]   Package punkt_tab is already up-to-date!\n"
     ]
    },
    {
     "data": {
      "text/plain": [
       "True"
      ]
     },
     "execution_count": 19,
     "metadata": {},
     "output_type": "execute_result"
    }
   ],
   "source": [
    "import nltk\n",
    "nltk.download('punkt_tab') "
   ]
  },
  {
   "cell_type": "markdown",
   "id": "b46c3141-4818-4713-809b-bf5f51f60340",
   "metadata": {},
   "source": [
    "\n",
    "### Tokenize the review body into sentence "
   ]
  },
  {
   "cell_type": "code",
   "execution_count": 21,
   "id": "8e6ea775-9e35-4942-bcbf-57c5599bc3f7",
   "metadata": {},
   "outputs": [],
   "source": [
    "from nltk.tokenize import sent_tokenize  "
   ]
  },
  {
   "cell_type": "code",
   "execution_count": 23,
   "id": "eab02fad-cad4-4a1e-9bac-ef6304998996",
   "metadata": {},
   "outputs": [],
   "source": [
    "for i in range(df.shape[0]):\n",
    "    l1= sent_tokenize(str(df.loc[i,\"reviewText\"]))\n",
    "    df.at[i,\"sentences\"]=l1 "
   ]
  },
  {
   "cell_type": "markdown",
   "id": "36b29bf0-5a20-4308-8cba-ade52a693519",
   "metadata": {},
   "source": [
    "### Lemmatize each sentence "
   ]
  },
  {
   "cell_type": "code",
   "execution_count": 25,
   "id": "3e6c235a-4147-4d48-a94f-fe3a9499d1e8",
   "metadata": {},
   "outputs": [
    {
     "name": "stderr",
     "output_type": "stream",
     "text": [
      "Warming up PyWSD (takes ~10 secs)... took 10.357804536819458 secs.\n"
     ]
    }
   ],
   "source": [
    "#!pip install pywsd -q \n",
    "from pywsd.utils import lemmatize_sentence "
   ]
  },
  {
   "cell_type": "code",
   "execution_count": 27,
   "id": "c58fafad-a9d9-483f-ad8d-698c95a3f15b",
   "metadata": {},
   "outputs": [],
   "source": [
    "from nltk.stem import PorterStemmer "
   ]
  },
  {
   "cell_type": "code",
   "execution_count": 29,
   "id": "fb1dfbd3-bbb7-4bf9-9cdf-54804d2ec3b3",
   "metadata": {},
   "outputs": [],
   "source": [
    "from nltk.tokenize import word_tokenize "
   ]
  },
  {
   "cell_type": "code",
   "execution_count": 31,
   "id": "efbe53bd-82cd-470a-857b-b03b192cdddf",
   "metadata": {},
   "outputs": [],
   "source": [
    "# Initialize stemmer\n",
    "stemmer = PorterStemmer()\n",
    "# Define stemming function\n",
    "def stem_sentence(sentence):\n",
    "    tokens = word_tokenize(sentence)\n",
    "    return [stemmer.stem(word) for word in tokens]\n",
    "\n",
    "# Process DataFrame\n",
    "for k in range(df.shape[0]):\n",
    "    df.at[k, \"words\"] = []\n",
    "    for j in range(len(df.loc[k, \"sentences\"])):\n",
    "        df.at[k, \"words\"].extend(stem_sentence(df.loc[k, \"sentences\"][j]))\n"
   ]
  },
  {
   "cell_type": "code",
   "execution_count": 33,
   "id": "d18fad94-03d7-4b30-9f85-92b86990b2f1",
   "metadata": {},
   "outputs": [],
   "source": [
    "df[\"words_sentences\"] = \"default\" "
   ]
  },
  {
   "cell_type": "markdown",
   "id": "aafeeb72-4188-441f-aaf2-8ad27a8ef3cc",
   "metadata": {},
   "source": [
    "### Combine all lemmatized words into a single string for each review¶ "
   ]
  },
  {
   "cell_type": "code",
   "execution_count": 35,
   "id": "8259c6d8-b77f-4c16-b06c-ff00b9ec8b1f",
   "metadata": {},
   "outputs": [],
   "source": [
    "import functools\n",
    "for k in range(df.shape[0]):\n",
    "    df.loc[k,\"words_sentences\"]=functools.reduce(lambda a,b:( str(a)+str(\" \")+str(b)),df.loc[k,\"words\"])   "
   ]
  },
  {
   "cell_type": "markdown",
   "id": "87601edb-46ac-4e02-8f45-7356635f9c20",
   "metadata": {},
   "source": [
    "### Feature Extraction -Applying CountVectorizer to the text data "
   ]
  },
  {
   "cell_type": "code",
   "execution_count": 37,
   "id": "689dffac-6001-4425-814c-82ef57199c86",
   "metadata": {},
   "outputs": [],
   "source": [
    "from sklearn.feature_extraction.text import  TfidfVectorizer "
   ]
  },
  {
   "cell_type": "code",
   "execution_count": 39,
   "id": "5fa665a5-5f0a-4ad5-a47d-8d9dbac6dc65",
   "metadata": {},
   "outputs": [],
   "source": [
    "df1=df\n",
    "\n",
    "no_features = 1000\n",
    "tf_vectorizer = TfidfVectorizer( max_features=no_features, stop_words='english')\n",
    "tf = tf_vectorizer.fit_transform(df1.words_sentences)  "
   ]
  },
  {
   "cell_type": "code",
   "execution_count": 41,
   "id": "f973fc1a-08d9-4aff-b482-b45cb26597fd",
   "metadata": {},
   "outputs": [],
   "source": [
    "df_x=pd.DataFrame(tf.A, columns=tf_vectorizer.get_feature_names_out()) "
   ]
  },
  {
   "cell_type": "code",
   "execution_count": 43,
   "id": "4dbb25fe-1d01-4978-bc7b-d5d2e5029136",
   "metadata": {},
   "outputs": [],
   "source": [
    "df_y=df[\"verified\"] "
   ]
  },
  {
   "cell_type": "markdown",
   "id": "89ca6ff5-7cc7-49f0-a999-84cb2bf94ffb",
   "metadata": {},
   "source": [
    "### Label Encoding  "
   ]
  },
  {
   "cell_type": "code",
   "execution_count": 45,
   "id": "937788ab-76e2-46f9-be18-f79b85c393b2",
   "metadata": {},
   "outputs": [],
   "source": [
    "from sklearn.preprocessing import LabelEncoder "
   ]
  },
  {
   "cell_type": "code",
   "execution_count": 47,
   "id": "356044c3-6835-4487-b9cc-9f03d65848aa",
   "metadata": {},
   "outputs": [],
   "source": [
    "\n",
    "le=LabelEncoder() "
   ]
  },
  {
   "cell_type": "code",
   "execution_count": 49,
   "id": "f020ab93-10f0-40bd-aeee-60ec6716e3be",
   "metadata": {},
   "outputs": [],
   "source": [
    "df_y_1=pd.DataFrame(df_y) "
   ]
  },
  {
   "cell_type": "code",
   "execution_count": 51,
   "id": "49df0c66-a504-400a-bd83-598ed8921020",
   "metadata": {},
   "outputs": [],
   "source": [
    "df_y_enc=df_y_1.apply(le.fit_transform) "
   ]
  },
  {
   "cell_type": "code",
   "execution_count": 53,
   "id": "36941cdd-764e-46a3-a6da-4d85811ac0ff",
   "metadata": {},
   "outputs": [
    {
     "data": {
      "text/plain": [
       "Index(['verified'], dtype='object')"
      ]
     },
     "execution_count": 53,
     "metadata": {},
     "output_type": "execute_result"
    }
   ],
   "source": [
    "df_y_enc.columns "
   ]
  },
  {
   "cell_type": "code",
   "execution_count": 55,
   "id": "25972895-0791-410a-a5b9-ff735ce94d7e",
   "metadata": {},
   "outputs": [
    {
     "data": {
      "text/html": [
       "<div>\n",
       "<style scoped>\n",
       "    .dataframe tbody tr th:only-of-type {\n",
       "        vertical-align: middle;\n",
       "    }\n",
       "\n",
       "    .dataframe tbody tr th {\n",
       "        vertical-align: top;\n",
       "    }\n",
       "\n",
       "    .dataframe thead th {\n",
       "        text-align: right;\n",
       "    }\n",
       "</style>\n",
       "<table border=\"1\" class=\"dataframe\">\n",
       "  <thead>\n",
       "    <tr style=\"text-align: right;\">\n",
       "      <th></th>\n",
       "      <th>verified</th>\n",
       "    </tr>\n",
       "  </thead>\n",
       "  <tbody>\n",
       "    <tr>\n",
       "      <th>0</th>\n",
       "      <td>1</td>\n",
       "    </tr>\n",
       "    <tr>\n",
       "      <th>1</th>\n",
       "      <td>1</td>\n",
       "    </tr>\n",
       "    <tr>\n",
       "      <th>2</th>\n",
       "      <td>1</td>\n",
       "    </tr>\n",
       "    <tr>\n",
       "      <th>3</th>\n",
       "      <td>1</td>\n",
       "    </tr>\n",
       "    <tr>\n",
       "      <th>4</th>\n",
       "      <td>0</td>\n",
       "    </tr>\n",
       "  </tbody>\n",
       "</table>\n",
       "</div>"
      ],
      "text/plain": [
       "   verified\n",
       "0         1\n",
       "1         1\n",
       "2         1\n",
       "3         1\n",
       "4         0"
      ]
     },
     "execution_count": 55,
     "metadata": {},
     "output_type": "execute_result"
    }
   ],
   "source": [
    "df_y_enc.head(5) "
   ]
  },
  {
   "cell_type": "markdown",
   "id": "c57208e2-481c-4216-9acf-f9163d2cda1f",
   "metadata": {},
   "source": [
    "### Train-Test split "
   ]
  },
  {
   "cell_type": "code",
   "execution_count": 57,
   "id": "2216e3e0-b383-449b-a631-99692f379381",
   "metadata": {},
   "outputs": [],
   "source": [
    "from sklearn.model_selection import train_test_split\n",
    "x_train, x_test, y_train, y_test = train_test_split(df_x, df_y_enc, test_size=30, random_state=42) "
   ]
  },
  {
   "cell_type": "markdown",
   "id": "54a7ff03-5742-44f4-bad0-fd5ea999dd3b",
   "metadata": {},
   "source": [
    "### Gradient Boosting Classifier "
   ]
  },
  {
   "cell_type": "code",
   "execution_count": 59,
   "id": "2642cf94-c943-4840-aa1d-709441358948",
   "metadata": {},
   "outputs": [
    {
     "name": "stderr",
     "output_type": "stream",
     "text": [
      "C:\\Users\\LENOVO\\anaconda3\\Lib\\site-packages\\sklearn\\preprocessing\\_label.py:114: DataConversionWarning: A column-vector y was passed when a 1d array was expected. Please change the shape of y to (n_samples, ), for example using ravel().\n",
      "  y = column_or_1d(y, warn=True)\n"
     ]
    },
    {
     "name": "stdout",
     "output_type": "stream",
     "text": [
      "Training Score : 78.34752128192288\n",
      "accuracy_score :  76.66666666666667\n"
     ]
    }
   ],
   "source": [
    "from sklearn.ensemble import GradientBoostingClassifier\n",
    "GBC = GradientBoostingClassifier(random_state=42)\n",
    "GBC.fit(x_train, y_train)\n",
    "y_pred=GBC.predict(x_test)\n",
    "from sklearn.metrics import accuracy_score\n",
    "training_score = GBC.score(x_train, y_train)*100\n",
    "print(f'Training Score : {training_score}')\n",
    "print(\"accuracy_score : \",accuracy_score(y_test,y_pred)*100)   "
   ]
  },
  {
   "cell_type": "markdown",
   "id": "375422da-6ac5-4361-8dc4-23550a2d0ad7",
   "metadata": {},
   "source": [
    "### Naive Bayes Classifier "
   ]
  },
  {
   "cell_type": "code",
   "execution_count": 61,
   "id": "3978c2b3-3099-4206-88b8-2b057cf717e6",
   "metadata": {},
   "outputs": [
    {
     "name": "stderr",
     "output_type": "stream",
     "text": [
      "C:\\Users\\LENOVO\\anaconda3\\Lib\\site-packages\\sklearn\\utils\\validation.py:1300: DataConversionWarning: A column-vector y was passed when a 1d array was expected. Please change the shape of y to (n_samples, ), for example using ravel().\n",
      "  y = column_or_1d(y, warn=True)\n"
     ]
    },
    {
     "name": "stdout",
     "output_type": "stream",
     "text": [
      "Training Score : 74.72709063595393\n",
      "accuracy_score :  76.66666666666667\n"
     ]
    }
   ],
   "source": [
    "from sklearn.naive_bayes import MultinomialNB\n",
    "MNB = MultinomialNB()\n",
    "MNB.fit(x_train, y_train)\n",
    "y_pred=GBC.predict(x_test)\n",
    "from sklearn.metrics import accuracy_score\n",
    "training_score = MNB.score(x_train, y_train)*100\n",
    "print(f'Training Score : {training_score}')\n",
    "print(\"accuracy_score : \",accuracy_score(y_test,y_pred)*100)  "
   ]
  },
  {
   "cell_type": "markdown",
   "id": "2e4124d7-0340-499f-b3ec-879cf1ace75e",
   "metadata": {},
   "source": [
    "### Random forest Classifier "
   ]
  },
  {
   "cell_type": "code",
   "execution_count": 63,
   "id": "5e1d74e6-b4f2-4c0e-bb74-7884173f493c",
   "metadata": {},
   "outputs": [
    {
     "name": "stderr",
     "output_type": "stream",
     "text": [
      "C:\\Users\\LENOVO\\anaconda3\\Lib\\site-packages\\sklearn\\base.py:1474: DataConversionWarning: A column-vector y was passed when a 1d array was expected. Please change the shape of y to (n_samples,), for example using ravel().\n",
      "  return fit_method(estimator, *args, **kwargs)\n"
     ]
    },
    {
     "name": "stdout",
     "output_type": "stream",
     "text": [
      "Training Score : 99.95493239859789\n",
      "accuracy_score : 86.66666666666667\n"
     ]
    }
   ],
   "source": [
    "from sklearn.ensemble import RandomForestClassifier\n",
    "RFC = RandomForestClassifier(random_state=42)\n",
    "RFC.fit(x_train, y_train)\n",
    "y_pred=RFC.predict(x_test)\n",
    "from sklearn.metrics import accuracy_score\n",
    "training_score = RFC.score(x_train, y_train)*100\n",
    "print(f'Training Score : {training_score}')\n",
    "print(\"accuracy_score :\", accuracy_score(y_pred,y_test)*100) "
   ]
  },
  {
   "cell_type": "markdown",
   "id": "2bb671a3-474f-4554-9b7b-2fbeeba43010",
   "metadata": {},
   "source": [
    "### PCA "
   ]
  },
  {
   "cell_type": "code",
   "execution_count": 65,
   "id": "fdb4ad5e-07b6-4952-a960-71904a3f34ef",
   "metadata": {},
   "outputs": [],
   "source": [
    "#PCA\n",
    "from sklearn.decomposition import PCA\n",
    "pca = PCA(n_components=1000)\n",
    "x_train_pca = pca.fit_transform(x_train)\n",
    "x_test_pca = pca.transform(x_test) \n"
   ]
  },
  {
   "cell_type": "markdown",
   "id": "f134ace8-1bad-4c37-9c1e-41a88b0cfbf1",
   "metadata": {},
   "source": [
    "### Logistic Regression  "
   ]
  },
  {
   "cell_type": "code",
   "execution_count": 67,
   "id": "5a5ae8fb-e51c-4ceb-8e0e-585b7da36072",
   "metadata": {},
   "outputs": [],
   "source": [
    "from sklearn.linear_model import LogisticRegression "
   ]
  },
  {
   "cell_type": "code",
   "execution_count": 69,
   "id": "c89c9c84-d124-4e08-826c-178b57b154bf",
   "metadata": {},
   "outputs": [
    {
     "name": "stderr",
     "output_type": "stream",
     "text": [
      "C:\\Users\\LENOVO\\anaconda3\\Lib\\site-packages\\sklearn\\utils\\validation.py:1300: DataConversionWarning: A column-vector y was passed when a 1d array was expected. Please change the shape of y to (n_samples, ), for example using ravel().\n",
      "  y = column_or_1d(y, warn=True)\n"
     ]
    },
    {
     "name": "stdout",
     "output_type": "stream",
     "text": [
      "Training Score : 80.80120180270406\n",
      "accuracy_score :  83.33333333333334\n"
     ]
    }
   ],
   "source": [
    "#Logistic Regression\n",
    "from sklearn.linear_model import LogisticRegression\n",
    "LR = LogisticRegression(random_state=21)\n",
    "LR.fit(x_train, y_train)\n",
    "y_pred=LR.predict(x_test)\n",
    "from sklearn.metrics import accuracy_score\n",
    "training_score = LR.score(x_train, y_train)*100\n",
    "print(f'Training Score : {training_score}')\n",
    "print(\"accuracy_score : \",accuracy_score(y_pred,y_test)*100) \n"
   ]
  },
  {
   "cell_type": "markdown",
   "id": "3c334bec-30b7-44ee-b5c4-274f336a20f1",
   "metadata": {},
   "source": [
    "### Logistic Regression with PCA "
   ]
  },
  {
   "cell_type": "code",
   "execution_count": 71,
   "id": "fa4c55d3-dde6-4b08-8576-0b4cfdf56668",
   "metadata": {},
   "outputs": [
    {
     "name": "stderr",
     "output_type": "stream",
     "text": [
      "C:\\Users\\LENOVO\\anaconda3\\Lib\\site-packages\\sklearn\\utils\\validation.py:1300: DataConversionWarning: A column-vector y was passed when a 1d array was expected. Please change the shape of y to (n_samples, ), for example using ravel().\n",
      "  y = column_or_1d(y, warn=True)\n"
     ]
    },
    {
     "name": "stdout",
     "output_type": "stream",
     "text": [
      "Training Score : 80.79619429143715\n",
      "accuracy_score :  50.0\n"
     ]
    },
    {
     "name": "stderr",
     "output_type": "stream",
     "text": [
      "C:\\Users\\LENOVO\\anaconda3\\Lib\\site-packages\\sklearn\\base.py:486: UserWarning: X has feature names, but LogisticRegression was fitted without feature names\n",
      "  warnings.warn(\n"
     ]
    }
   ],
   "source": [
    "#Logistic Regression with PCA\n",
    "from sklearn.linear_model import LogisticRegression\n",
    "LR = LogisticRegression(random_state=21)\n",
    "LR.fit(x_train_pca, y_train)\n",
    "y_pred=LR.predict(x_test)\n",
    "from sklearn.metrics import accuracy_score\n",
    "training_score = LR.score(x_train_pca, y_train)*100\n",
    "print(f'Training Score : {training_score}')\n",
    "print(\"accuracy_score : \",accuracy_score(y_pred,y_test)*100) \n",
    "\n"
   ]
  },
  {
   "cell_type": "code",
   "execution_count": null,
   "id": "c8531d87-8b41-4b64-99f7-fd33edb5f4c2",
   "metadata": {},
   "outputs": [],
   "source": []
  }
 ],
 "metadata": {
  "kernelspec": {
   "display_name": "Python 3 (ipykernel)",
   "language": "python",
   "name": "python3"
  },
  "language_info": {
   "codemirror_mode": {
    "name": "ipython",
    "version": 3
   },
   "file_extension": ".py",
   "mimetype": "text/x-python",
   "name": "python",
   "nbconvert_exporter": "python",
   "pygments_lexer": "ipython3",
   "version": "3.12.4"
  }
 },
 "nbformat": 4,
 "nbformat_minor": 5
}
