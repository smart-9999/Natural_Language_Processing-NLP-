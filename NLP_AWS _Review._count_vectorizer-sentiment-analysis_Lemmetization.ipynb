{
 "cells": [
  {
   "cell_type": "markdown",
   "id": "6ba531ef-b2d3-4e96-8872-7bf906db9248",
   "metadata": {},
   "source": [
    "### import libraries  "
   ]
  },
  {
   "cell_type": "code",
   "execution_count": 1,
   "id": "dc2d3886-6e26-40ec-bd6b-2468d3236551",
   "metadata": {},
   "outputs": [],
   "source": [
    "import pandas as pd\n",
    "import numpy as np\n",
    "import os\n",
    "import re\n",
    "import random \n",
    "import pandas as pd "
   ]
  },
  {
   "cell_type": "markdown",
   "id": "e7e796f3-6d7e-4bcc-8da8-ecca3ed83dc4",
   "metadata": {},
   "source": [
    "### load the dataset  "
   ]
  },
  {
   "cell_type": "code",
   "execution_count": 3,
   "id": "7f97fa73-e916-416f-94d3-e3c823b71082",
   "metadata": {},
   "outputs": [],
   "source": [
    "chunk_iter = pd.read_csv('C:\\\\Users\\\\LENOVO\\\\Downloads\\\\aws_review_sofware_dataset\\\\aws_review_sofware_dataset.csv', chunksize=20000)   \n"
   ]
  },
  {
   "cell_type": "code",
   "execution_count": 5,
   "id": "31d5887f-2f34-4f94-b7e6-f2da0b9fe139",
   "metadata": {},
   "outputs": [],
   "source": [
    "df = next(chunk_iter) "
   ]
  },
  {
   "cell_type": "code",
   "execution_count": 7,
   "id": "041dab8d-67d3-4356-85d7-11cbadbbd6aa",
   "metadata": {},
   "outputs": [
    {
     "data": {
      "text/plain": [
       "pandas.core.frame.DataFrame"
      ]
     },
     "execution_count": 7,
     "metadata": {},
     "output_type": "execute_result"
    }
   ],
   "source": [
    "type(df) "
   ]
  },
  {
   "cell_type": "markdown",
   "id": "9893eb49-65d5-4fec-b556-2f43849edebf",
   "metadata": {},
   "source": [
    "### display the shape \n"
   ]
  },
  {
   "cell_type": "code",
   "execution_count": 9,
   "id": "4bbbab80-27ed-4843-8d35-2600f5506dda",
   "metadata": {},
   "outputs": [
    {
     "data": {
      "text/plain": [
       "(20000, 13)"
      ]
     },
     "execution_count": 9,
     "metadata": {},
     "output_type": "execute_result"
    }
   ],
   "source": [
    "df.shape"
   ]
  },
  {
   "cell_type": "markdown",
   "id": "5507e423-dd83-4a69-82cc-797b47c76cdd",
   "metadata": {},
   "source": [
    "### displaying top 5 rows "
   ]
  },
  {
   "cell_type": "code",
   "execution_count": 11,
   "id": "a5b90bdd-957f-464c-8255-1ed9e451bbe6",
   "metadata": {},
   "outputs": [
    {
     "data": {
      "text/html": [
       "<div>\n",
       "<style scoped>\n",
       "    .dataframe tbody tr th:only-of-type {\n",
       "        vertical-align: middle;\n",
       "    }\n",
       "\n",
       "    .dataframe tbody tr th {\n",
       "        vertical-align: top;\n",
       "    }\n",
       "\n",
       "    .dataframe thead th {\n",
       "        text-align: right;\n",
       "    }\n",
       "</style>\n",
       "<table border=\"1\" class=\"dataframe\">\n",
       "  <thead>\n",
       "    <tr style=\"text-align: right;\">\n",
       "      <th></th>\n",
       "      <th>Unnamed: 0</th>\n",
       "      <th>overall</th>\n",
       "      <th>verified</th>\n",
       "      <th>reviewTime</th>\n",
       "      <th>reviewerID</th>\n",
       "      <th>asin</th>\n",
       "      <th>style</th>\n",
       "      <th>reviewerName</th>\n",
       "      <th>reviewText</th>\n",
       "      <th>summary</th>\n",
       "      <th>unixReviewTime</th>\n",
       "      <th>vote</th>\n",
       "      <th>image</th>\n",
       "    </tr>\n",
       "  </thead>\n",
       "  <tbody>\n",
       "    <tr>\n",
       "      <th>0</th>\n",
       "      <td>0</td>\n",
       "      <td>4.0</td>\n",
       "      <td>True</td>\n",
       "      <td>03 11, 2014</td>\n",
       "      <td>A240ORQ2LF9LUI</td>\n",
       "      <td>0077613252</td>\n",
       "      <td>{'Format:': ' Loose Leaf'}</td>\n",
       "      <td>Michelle W</td>\n",
       "      <td>The materials arrived early and were in excell...</td>\n",
       "      <td>Material Great</td>\n",
       "      <td>1394496000</td>\n",
       "      <td>NaN</td>\n",
       "      <td>NaN</td>\n",
       "    </tr>\n",
       "    <tr>\n",
       "      <th>1</th>\n",
       "      <td>1</td>\n",
       "      <td>4.0</td>\n",
       "      <td>True</td>\n",
       "      <td>02 23, 2014</td>\n",
       "      <td>A1YCCU0YRLS0FE</td>\n",
       "      <td>0077613252</td>\n",
       "      <td>{'Format:': ' Loose Leaf'}</td>\n",
       "      <td>Rosalind White Ames</td>\n",
       "      <td>I am really enjoying this book with the worksh...</td>\n",
       "      <td>Health</td>\n",
       "      <td>1393113600</td>\n",
       "      <td>NaN</td>\n",
       "      <td>NaN</td>\n",
       "    </tr>\n",
       "    <tr>\n",
       "      <th>2</th>\n",
       "      <td>2</td>\n",
       "      <td>1.0</td>\n",
       "      <td>True</td>\n",
       "      <td>02 17, 2014</td>\n",
       "      <td>A1BJHRQDYVAY2J</td>\n",
       "      <td>0077613252</td>\n",
       "      <td>{'Format:': ' Loose Leaf'}</td>\n",
       "      <td>Allan R. Baker</td>\n",
       "      <td>IF YOU ARE TAKING THIS CLASS DON\"T WASTE YOUR ...</td>\n",
       "      <td>ARE YOU KIDING ME?</td>\n",
       "      <td>1392595200</td>\n",
       "      <td>7.0</td>\n",
       "      <td>NaN</td>\n",
       "    </tr>\n",
       "    <tr>\n",
       "      <th>3</th>\n",
       "      <td>3</td>\n",
       "      <td>3.0</td>\n",
       "      <td>True</td>\n",
       "      <td>02 17, 2014</td>\n",
       "      <td>APRDVZ6QBIQXT</td>\n",
       "      <td>0077613252</td>\n",
       "      <td>{'Format:': ' Loose Leaf'}</td>\n",
       "      <td>Lucy</td>\n",
       "      <td>This book was missing pages!!! Important pages...</td>\n",
       "      <td>missing pages!!</td>\n",
       "      <td>1392595200</td>\n",
       "      <td>3.0</td>\n",
       "      <td>NaN</td>\n",
       "    </tr>\n",
       "    <tr>\n",
       "      <th>4</th>\n",
       "      <td>4</td>\n",
       "      <td>5.0</td>\n",
       "      <td>False</td>\n",
       "      <td>10 14, 2013</td>\n",
       "      <td>A2JZTTBSLS1QXV</td>\n",
       "      <td>0077775473</td>\n",
       "      <td>NaN</td>\n",
       "      <td>Albert V.</td>\n",
       "      <td>I have used LearnSmart and can officially say ...</td>\n",
       "      <td>Best study product out there!</td>\n",
       "      <td>1381708800</td>\n",
       "      <td>NaN</td>\n",
       "      <td>NaN</td>\n",
       "    </tr>\n",
       "  </tbody>\n",
       "</table>\n",
       "</div>"
      ],
      "text/plain": [
       "   Unnamed: 0  overall  verified   reviewTime      reviewerID        asin  \\\n",
       "0           0      4.0      True  03 11, 2014  A240ORQ2LF9LUI  0077613252   \n",
       "1           1      4.0      True  02 23, 2014  A1YCCU0YRLS0FE  0077613252   \n",
       "2           2      1.0      True  02 17, 2014  A1BJHRQDYVAY2J  0077613252   \n",
       "3           3      3.0      True  02 17, 2014   APRDVZ6QBIQXT  0077613252   \n",
       "4           4      5.0     False  10 14, 2013  A2JZTTBSLS1QXV  0077775473   \n",
       "\n",
       "                        style         reviewerName  \\\n",
       "0  {'Format:': ' Loose Leaf'}           Michelle W   \n",
       "1  {'Format:': ' Loose Leaf'}  Rosalind White Ames   \n",
       "2  {'Format:': ' Loose Leaf'}       Allan R. Baker   \n",
       "3  {'Format:': ' Loose Leaf'}                 Lucy   \n",
       "4                         NaN            Albert V.   \n",
       "\n",
       "                                          reviewText  \\\n",
       "0  The materials arrived early and were in excell...   \n",
       "1  I am really enjoying this book with the worksh...   \n",
       "2  IF YOU ARE TAKING THIS CLASS DON\"T WASTE YOUR ...   \n",
       "3  This book was missing pages!!! Important pages...   \n",
       "4  I have used LearnSmart and can officially say ...   \n",
       "\n",
       "                         summary  unixReviewTime  vote image  \n",
       "0                 Material Great      1394496000   NaN   NaN  \n",
       "1                         Health      1393113600   NaN   NaN  \n",
       "2             ARE YOU KIDING ME?      1392595200   7.0   NaN  \n",
       "3                missing pages!!      1392595200   3.0   NaN  \n",
       "4  Best study product out there!      1381708800   NaN   NaN  "
      ]
     },
     "execution_count": 11,
     "metadata": {},
     "output_type": "execute_result"
    }
   ],
   "source": [
    "df.head() "
   ]
  },
  {
   "cell_type": "markdown",
   "id": "0f9fc693-afdc-4763-ac41-db566cd7236c",
   "metadata": {},
   "source": [
    "### Display the column names of the DataFrame "
   ]
  },
  {
   "cell_type": "code",
   "execution_count": 13,
   "id": "7607985d-26c6-4da9-9fe5-c05843f93cb6",
   "metadata": {},
   "outputs": [
    {
     "data": {
      "text/plain": [
       "Index(['Unnamed: 0', 'overall', 'verified', 'reviewTime', 'reviewerID', 'asin',\n",
       "       'style', 'reviewerName', 'reviewText', 'summary', 'unixReviewTime',\n",
       "       'vote', 'image'],\n",
       "      dtype='object')"
      ]
     },
     "execution_count": 13,
     "metadata": {},
     "output_type": "execute_result"
    }
   ],
   "source": [
    "df.columns  "
   ]
  },
  {
   "cell_type": "code",
   "execution_count": 15,
   "id": "b468bb9e-93ff-4bfd-8868-437f97e44cf2",
   "metadata": {},
   "outputs": [
    {
     "data": {
      "text/plain": [
       "verified\n",
       "False    0.68415\n",
       "True     0.31585\n",
       "Name: count, dtype: float64"
      ]
     },
     "execution_count": 15,
     "metadata": {},
     "output_type": "execute_result"
    }
   ],
   "source": [
    "df['verified'].value_counts()/df.shape[0] "
   ]
  },
  {
   "cell_type": "markdown",
   "id": "fbda0a69-b59e-4e18-afc1-5dab6e03049d",
   "metadata": {},
   "source": [
    "### Initializing empty lists for 'words' and 'sentences' columns  "
   ]
  },
  {
   "cell_type": "code",
   "execution_count": 17,
   "id": "f4284d85-dfa5-4669-8ca9-9d4009d0d180",
   "metadata": {},
   "outputs": [],
   "source": [
    "df[\"words\"]=\"default value\"\n",
    "df[\"sentences\"]=\"default value\"\n",
    "\n",
    "for i in range(df.shape[0]):\n",
    "    df.at[i,\"words\"]= []\n",
    "    df.at[i,\"sentences\"] = [] "
   ]
  },
  {
   "cell_type": "markdown",
   "id": "34b19a2e-06f1-47c0-bd02-071eb2c29110",
   "metadata": {},
   "source": [
    "### import nltk libraries  "
   ]
  },
  {
   "cell_type": "code",
   "execution_count": 19,
   "id": "0b2a52fe-ec98-4939-bb65-84a6f66a055f",
   "metadata": {},
   "outputs": [
    {
     "name": "stderr",
     "output_type": "stream",
     "text": [
      "[nltk_data] Downloading package punkt_tab to\n",
      "[nltk_data]     C:\\Users\\LENOVO\\AppData\\Roaming\\nltk_data...\n",
      "[nltk_data]   Package punkt_tab is already up-to-date!\n"
     ]
    },
    {
     "data": {
      "text/plain": [
       "True"
      ]
     },
     "execution_count": 19,
     "metadata": {},
     "output_type": "execute_result"
    }
   ],
   "source": [
    "import nltk\n",
    "nltk.download('punkt_tab') "
   ]
  },
  {
   "cell_type": "markdown",
   "id": "b3b827d7-795e-4367-89ec-b2ee781512b9",
   "metadata": {},
   "source": [
    "### Tokenize the review body into sentences "
   ]
  },
  {
   "cell_type": "code",
   "execution_count": 21,
   "id": "ea79f88c-9204-4f76-b068-46450e826574",
   "metadata": {},
   "outputs": [],
   "source": [
    "from nltk.tokenize import sent_tokenize  "
   ]
  },
  {
   "cell_type": "code",
   "execution_count": 23,
   "id": "859181f3-6b5f-4580-9af3-d2d37754fdf8",
   "metadata": {},
   "outputs": [],
   "source": [
    "for i in range(df.shape[0]):\n",
    "    l1= sent_tokenize(str(df.loc[i,\"reviewText\"]))\n",
    "    df.at[i,\"sentences\"]=l1 "
   ]
  },
  {
   "cell_type": "markdown",
   "id": "b41e1906-bc82-48c4-a731-e9d38df7d652",
   "metadata": {},
   "source": [
    "### Lemmatize each sentence "
   ]
  },
  {
   "cell_type": "code",
   "execution_count": 25,
   "id": "303d0e16-c76f-4e95-b085-cf1f3d607eb7",
   "metadata": {},
   "outputs": [
    {
     "name": "stderr",
     "output_type": "stream",
     "text": [
      "Warming up PyWSD (takes ~10 secs)... took 6.524877071380615 secs.\n"
     ]
    }
   ],
   "source": [
    "#!pip install pywsd -q \n",
    "from pywsd.utils import lemmatize_sentence "
   ]
  },
  {
   "cell_type": "code",
   "execution_count": 27,
   "id": "6a696b33-7287-46ec-8cc3-a14fa9e57805",
   "metadata": {},
   "outputs": [],
   "source": [
    "for k in range(df.shape[0]):\n",
    "    df.at[k,\"words\"]=[]\n",
    "    for j in range(len(df.loc[k,\"sentences\"])):\n",
    "        df.at[k,\"words\"].extend(lemmatize_sentence(df.loc[k,\"sentences\"][j])) "
   ]
  },
  {
   "cell_type": "code",
   "execution_count": 29,
   "id": "27cf206c-78d9-43cc-9123-0ff38fd3ba8d",
   "metadata": {},
   "outputs": [],
   "source": [
    "df[\"words_sentences\"] = \"default\" "
   ]
  },
  {
   "cell_type": "markdown",
   "id": "71e1b2d2-df2e-4e8e-80a4-a95b9c5a06f6",
   "metadata": {},
   "source": [
    "#### Combine all lemmatized words into a single string for each review "
   ]
  },
  {
   "cell_type": "code",
   "execution_count": 31,
   "id": "b78d5975-04b2-4953-9068-1274484b220f",
   "metadata": {},
   "outputs": [],
   "source": [
    "import functools\n",
    "for k in range(df.shape[0]):\n",
    "    df.loc[k,\"words_sentences\"]=functools.reduce(lambda a,b:( str(a)+str(\" \")+str(b)),df.loc[k,\"words\"])  "
   ]
  },
  {
   "cell_type": "markdown",
   "id": "fcf9c585-1677-4a2e-8091-2c5e566d24e0",
   "metadata": {},
   "source": [
    " ### Feature Extraction -Applying CountVectorizer to the text data "
   ]
  },
  {
   "cell_type": "code",
   "execution_count": 33,
   "id": "cc81f975-17a2-4f31-a08c-262074f4cf50",
   "metadata": {},
   "outputs": [],
   "source": [
    "from sklearn.feature_extraction.text import  CountVectorizer "
   ]
  },
  {
   "cell_type": "code",
   "execution_count": 36,
   "id": "ea916731-e4ed-4048-bb82-517c92817903",
   "metadata": {},
   "outputs": [],
   "source": [
    "df1=df\n",
    "\n",
    "no_features = 1000\n",
    "tf_vectorizer = CountVectorizer( max_features=no_features, stop_words='english')\n",
    "tf = tf_vectorizer.fit_transform(df1.words_sentences) "
   ]
  },
  {
   "cell_type": "code",
   "execution_count": 38,
   "id": "f2ad594d-5e85-4519-a138-776989306cd6",
   "metadata": {},
   "outputs": [],
   "source": [
    "df_x=pd.DataFrame(tf.A, columns=tf_vectorizer.get_feature_names_out()) "
   ]
  },
  {
   "cell_type": "code",
   "execution_count": 44,
   "id": "10a8f842-7912-4b98-bb65-16a4f26754bb",
   "metadata": {},
   "outputs": [],
   "source": [
    "#df_y.sample() "
   ]
  },
  {
   "cell_type": "code",
   "execution_count": 42,
   "id": "0f057c45-e4eb-4730-b122-991f6c54d1ad",
   "metadata": {},
   "outputs": [],
   "source": [
    "df_y=df[\"verified\"] "
   ]
  },
  {
   "cell_type": "markdown",
   "id": "052f86a0-d189-4fa8-aacf-70b506bb5fd9",
   "metadata": {},
   "source": [
    " ### Label Encoding "
   ]
  },
  {
   "cell_type": "code",
   "execution_count": 46,
   "id": "6e32ab2f-5be9-4a4c-aabc-2f0dad4aa9e7",
   "metadata": {},
   "outputs": [],
   "source": [
    "\n",
    "from sklearn.preprocessing import LabelEncoder "
   ]
  },
  {
   "cell_type": "code",
   "execution_count": 48,
   "id": "cf315283-ccd5-4c60-974a-bb5e156ec916",
   "metadata": {},
   "outputs": [],
   "source": [
    "\n",
    "le=LabelEncoder() "
   ]
  },
  {
   "cell_type": "code",
   "execution_count": 50,
   "id": "fa25d611-ef32-4c66-adfa-88eec34d03c7",
   "metadata": {},
   "outputs": [],
   "source": [
    "df_y_1=pd.DataFrame(df_y) "
   ]
  },
  {
   "cell_type": "code",
   "execution_count": 52,
   "id": "9e3d3002-be9e-484f-9002-440a3b125e58",
   "metadata": {},
   "outputs": [],
   "source": [
    "df_y_enc=df_y_1.apply(le.fit_transform) "
   ]
  },
  {
   "cell_type": "code",
   "execution_count": 54,
   "id": "4dbd191e-67df-4c6d-83d4-5e5fcb6abb05",
   "metadata": {},
   "outputs": [
    {
     "data": {
      "text/plain": [
       "Index(['verified'], dtype='object')"
      ]
     },
     "execution_count": 54,
     "metadata": {},
     "output_type": "execute_result"
    }
   ],
   "source": [
    "df_y_enc.columns "
   ]
  },
  {
   "cell_type": "code",
   "execution_count": 56,
   "id": "504acb69-b4db-4d73-94cc-f42ba9892915",
   "metadata": {},
   "outputs": [
    {
     "data": {
      "text/html": [
       "<div>\n",
       "<style scoped>\n",
       "    .dataframe tbody tr th:only-of-type {\n",
       "        vertical-align: middle;\n",
       "    }\n",
       "\n",
       "    .dataframe tbody tr th {\n",
       "        vertical-align: top;\n",
       "    }\n",
       "\n",
       "    .dataframe thead th {\n",
       "        text-align: right;\n",
       "    }\n",
       "</style>\n",
       "<table border=\"1\" class=\"dataframe\">\n",
       "  <thead>\n",
       "    <tr style=\"text-align: right;\">\n",
       "      <th></th>\n",
       "      <th>verified</th>\n",
       "    </tr>\n",
       "  </thead>\n",
       "  <tbody>\n",
       "    <tr>\n",
       "      <th>0</th>\n",
       "      <td>1</td>\n",
       "    </tr>\n",
       "    <tr>\n",
       "      <th>1</th>\n",
       "      <td>1</td>\n",
       "    </tr>\n",
       "    <tr>\n",
       "      <th>2</th>\n",
       "      <td>1</td>\n",
       "    </tr>\n",
       "    <tr>\n",
       "      <th>3</th>\n",
       "      <td>1</td>\n",
       "    </tr>\n",
       "    <tr>\n",
       "      <th>4</th>\n",
       "      <td>0</td>\n",
       "    </tr>\n",
       "  </tbody>\n",
       "</table>\n",
       "</div>"
      ],
      "text/plain": [
       "   verified\n",
       "0         1\n",
       "1         1\n",
       "2         1\n",
       "3         1\n",
       "4         0"
      ]
     },
     "execution_count": 56,
     "metadata": {},
     "output_type": "execute_result"
    }
   ],
   "source": [
    "df_y_enc.head(5) "
   ]
  },
  {
   "cell_type": "code",
   "execution_count": 58,
   "id": "8ce8a6ac-0938-4395-9130-6406fe09a509",
   "metadata": {},
   "outputs": [],
   "source": [
    "from sklearn.model_selection import train_test_split\n",
    "x_train, x_test, y_train, y_test = train_test_split(df_x, df_y_enc, test_size=30, random_state=42) "
   ]
  },
  {
   "cell_type": "markdown",
   "id": "9e81992c-cc7d-4a79-949e-f254c77135de",
   "metadata": {},
   "source": [
    "## Gradient Boosting Classifier ##  "
   ]
  },
  {
   "cell_type": "code",
   "execution_count": 60,
   "id": "9ea34f9b-d0ed-4b4d-8d45-495da20668a9",
   "metadata": {},
   "outputs": [
    {
     "name": "stderr",
     "output_type": "stream",
     "text": [
      "C:\\Users\\LENOVO\\anaconda3\\Lib\\site-packages\\sklearn\\preprocessing\\_label.py:114: DataConversionWarning: A column-vector y was passed when a 1d array was expected. Please change the shape of y to (n_samples, ), for example using ravel().\n",
      "  y = column_or_1d(y, warn=True)\n"
     ]
    },
    {
     "name": "stdout",
     "output_type": "stream",
     "text": [
      "Training Score : 77.1256885327992\n",
      "accuracy_score :  83.33333333333334\n"
     ]
    }
   ],
   "source": [
    "\n",
    "from sklearn.ensemble import GradientBoostingClassifier\n",
    "GBC = GradientBoostingClassifier(random_state=42)\n",
    "GBC.fit(x_train, y_train)\n",
    "y_pred=GBC.predict(x_test)\n",
    "from sklearn.metrics import accuracy_score\n",
    "training_score = GBC.score(x_train, y_train)*100\n",
    "print(f'Training Score : {training_score}')\n",
    "print(\"accuracy_score : \",accuracy_score(y_test,y_pred)*100)   "
   ]
  },
  {
   "cell_type": "markdown",
   "id": "f6f1adb2-d705-4970-a538-4094a6c6cb48",
   "metadata": {},
   "source": [
    "## Navie Bayes Classifier ##    "
   ]
  },
  {
   "cell_type": "code",
   "execution_count": 66,
   "id": "d349dfc2-befb-4789-b5d4-122807ed703d",
   "metadata": {},
   "outputs": [
    {
     "name": "stderr",
     "output_type": "stream",
     "text": [
      "C:\\Users\\LENOVO\\anaconda3\\Lib\\site-packages\\sklearn\\utils\\validation.py:1300: DataConversionWarning: A column-vector y was passed when a 1d array was expected. Please change the shape of y to (n_samples, ), for example using ravel().\n",
      "  y = column_or_1d(y, warn=True)\n"
     ]
    },
    {
     "name": "stdout",
     "output_type": "stream",
     "text": [
      "Training Score : 67.68152228342514\n",
      "accuracy_score :  83.33333333333334\n"
     ]
    }
   ],
   "source": [
    "from sklearn.naive_bayes import MultinomialNB\n",
    "MNB = MultinomialNB()\n",
    "MNB.fit(x_train, y_train)\n",
    "y_pred=GBC.predict(x_test)\n",
    "from sklearn.metrics import accuracy_score\n",
    "training_score = MNB.score(x_train, y_train)*100\n",
    "print(f'Training Score : {training_score}')\n",
    "print(\"accuracy_score : \",accuracy_score(y_test,y_pred)*100)  "
   ]
  },
  {
   "cell_type": "markdown",
   "id": "eb2b4959-a852-43da-8e26-dd72cb3b84b9",
   "metadata": {},
   "source": [
    "### Random Forest Classifier ### "
   ]
  },
  {
   "cell_type": "code",
   "execution_count": 76,
   "id": "a6de1a0a-b5d3-4aa8-98cb-d8108d519ce9",
   "metadata": {},
   "outputs": [
    {
     "name": "stderr",
     "output_type": "stream",
     "text": [
      "C:\\Users\\LENOVO\\anaconda3\\Lib\\site-packages\\sklearn\\base.py:1474: DataConversionWarning: A column-vector y was passed when a 1d array was expected. Please change the shape of y to (n_samples,), for example using ravel().\n",
      "  return fit_method(estimator, *args, **kwargs)\n"
     ]
    },
    {
     "name": "stdout",
     "output_type": "stream",
     "text": [
      "Training Score : 99.93490235353029\n",
      "accuracy_score : 80.0\n"
     ]
    }
   ],
   "source": [
    "from sklearn.ensemble import RandomForestClassifier\n",
    "RFC = RandomForestClassifier(random_state=42)\n",
    "RFC.fit(x_train, y_train)\n",
    "y_pred=RFC.predict(x_test)\n",
    "from sklearn.metrics import accuracy_score\n",
    "training_score = RFC.score(x_train, y_train)*100\n",
    "print(f'Training Score : {training_score}')\n",
    "print(\"accuracy_score :\", accuracy_score(y_pred,y_test)*100) "
   ]
  },
  {
   "cell_type": "markdown",
   "id": "114bc7d1-ba30-4ddd-b01a-f31f90da89c4",
   "metadata": {},
   "source": [
    "## Logistic Regression with PCA ## "
   ]
  },
  {
   "cell_type": "code",
   "execution_count": 84,
   "id": "aa254796-bdd4-4773-a6d5-1504156f80a6",
   "metadata": {},
   "outputs": [],
   "source": [
    "#PCA\n",
    "from sklearn.decomposition import PCA\n",
    "pca = PCA(n_components=1000)\n",
    "x_train_pca = pca.fit_transform(x_train)\n",
    "x_test_pca = pca.transform(x_test) \n"
   ]
  },
  {
   "cell_type": "code",
   "execution_count": 86,
   "id": "dbc86cfd-3258-47e7-9e6e-c3cd6e3ec073",
   "metadata": {},
   "outputs": [],
   "source": [
    "from sklearn.linear_model import LogisticRegression "
   ]
  },
  {
   "cell_type": "code",
   "execution_count": 88,
   "id": "9acbdfda-4357-483a-8d38-53e42abd8d8e",
   "metadata": {},
   "outputs": [
    {
     "name": "stderr",
     "output_type": "stream",
     "text": [
      "C:\\Users\\LENOVO\\anaconda3\\Lib\\site-packages\\sklearn\\utils\\validation.py:1300: DataConversionWarning: A column-vector y was passed when a 1d array was expected. Please change the shape of y to (n_samples, ), for example using ravel().\n",
      "  y = column_or_1d(y, warn=True)\n"
     ]
    },
    {
     "name": "stdout",
     "output_type": "stream",
     "text": [
      "Training Score : 79.17376064096145\n",
      "accuracy_score :  70.0\n"
     ]
    }
   ],
   "source": [
    "#Logistic Regression\n",
    "from sklearn.linear_model import LogisticRegression\n",
    "LR = LogisticRegression(random_state=21)\n",
    "LR.fit(x_train, y_train)\n",
    "y_pred=LR.predict(x_test)\n",
    "from sklearn.metrics import accuracy_score\n",
    "training_score = LR.score(x_train, y_train)*100\n",
    "print(f'Training Score : {training_score}')\n",
    "print(\"accuracy_score : \",accuracy_score(y_pred,y_test)*100) \n"
   ]
  },
  {
   "cell_type": "code",
   "execution_count": 90,
   "id": "0f3d6761-dfa9-4928-93b8-152e23f74fa1",
   "metadata": {},
   "outputs": [
    {
     "name": "stderr",
     "output_type": "stream",
     "text": [
      "C:\\Users\\LENOVO\\anaconda3\\Lib\\site-packages\\sklearn\\utils\\validation.py:1300: DataConversionWarning: A column-vector y was passed when a 1d array was expected. Please change the shape of y to (n_samples, ), for example using ravel().\n",
      "  y = column_or_1d(y, warn=True)\n"
     ]
    },
    {
     "name": "stdout",
     "output_type": "stream",
     "text": [
      "Training Score : 79.14872308462694\n",
      "accuracy_score :  53.333333333333336\n"
     ]
    },
    {
     "name": "stderr",
     "output_type": "stream",
     "text": [
      "C:\\Users\\LENOVO\\anaconda3\\Lib\\site-packages\\sklearn\\base.py:486: UserWarning: X has feature names, but LogisticRegression was fitted without feature names\n",
      "  warnings.warn(\n"
     ]
    }
   ],
   "source": [
    "#Logistic Regression with PCA\n",
    "from sklearn.linear_model import LogisticRegression\n",
    "LR = LogisticRegression(random_state=21)\n",
    "LR.fit(x_train_pca, y_train)\n",
    "y_pred=LR.predict(x_test)\n",
    "from sklearn.metrics import accuracy_score\n",
    "training_score = LR.score(x_train_pca, y_train)*100\n",
    "print(f'Training Score : {training_score}')\n",
    "print(\"accuracy_score : \",accuracy_score(y_pred,y_test)*100) \n",
    "\n"
   ]
  },
  {
   "cell_type": "code",
   "execution_count": null,
   "id": "97664fcb-d291-4333-82ef-7472a93e2906",
   "metadata": {},
   "outputs": [],
   "source": []
  }
 ],
 "metadata": {
  "kernelspec": {
   "display_name": "Python 3 (ipykernel)",
   "language": "python",
   "name": "python3"
  },
  "language_info": {
   "codemirror_mode": {
    "name": "ipython",
    "version": 3
   },
   "file_extension": ".py",
   "mimetype": "text/x-python",
   "name": "python",
   "nbconvert_exporter": "python",
   "pygments_lexer": "ipython3",
   "version": "3.12.4"
  }
 },
 "nbformat": 4,
 "nbformat_minor": 5
}
